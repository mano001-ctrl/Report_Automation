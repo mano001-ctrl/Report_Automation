{
  "cells": [
    {
      "cell_type": "code",
      "source": [
        "!pip install schedule"
      ],
      "metadata": {
        "colab": {
          "base_uri": "https://localhost:8080/"
        },
        "id": "v0FdxGJ54Hxz",
        "executionInfo": {
          "status": "ok",
          "timestamp": 1738268520858,
          "user_tz": -120,
          "elapsed": 4324,
          "user": {
            "displayName": "",
            "userId": ""
          }
        },
        "outputId": "8caa099e-39da-4901-bdc6-c5e9fe70acbc"
      },
      "id": "v0FdxGJ54Hxz",
      "execution_count": null,
      "outputs": [
        {
          "output_type": "stream",
          "name": "stdout",
          "text": [
            "Collecting schedule\n",
            "  Downloading schedule-1.2.2-py3-none-any.whl.metadata (3.8 kB)\n",
            "Downloading schedule-1.2.2-py3-none-any.whl (12 kB)\n",
            "Installing collected packages: schedule\n",
            "Successfully installed schedule-1.2.2\n"
          ]
        }
      ]
    },
    {
      "cell_type": "code",
      "source": [
        "import schedule\n",
        "import time\n",
        "import csv\n",
        "from datetime import datetime, timedelta\n",
        "\n",
        "# Generate a timestamp for the CSV filename\n",
        "timestamp = datetime.now().strftime('%Y-%m-%d_%H-%M-%S')\n",
        "csv_filename = f\"job_output_{timestamp}.csv\"\n",
        "\n",
        "# Create and open the CSV file, writing the headers\n",
        "with open(csv_filename, mode=\"w\", newline=\"\") as file:\n",
        "    writer = csv.writer(file)\n",
        "    writer.writerow([\"Timestamp\", \"Message\"])  # CSV Headers\n",
        "\n",
        "def log_to_csv(message):\n",
        "    \"\"\"Logs a message with timestamp to the CSV file.\"\"\"\n",
        "    with open(csv_filename, mode=\"a\", newline=\"\") as file:\n",
        "        writer = csv.writer(file)\n",
        "        writer.writerow([datetime.now().strftime('%Y-%m-%d %H:%M:%S'), message])\n",
        "\n",
        "def job():\n",
        "    message = \"I'm working...\"\n",
        "    print(f\"[{datetime.now().strftime('%Y-%m-%d %H:%M:%S')}] {message}\")\n",
        "    log_to_csv(message)\n",
        "\n",
        "def job_with_argument(name):\n",
        "    message = f\"I am {name}\"\n",
        "    print(f\"[{datetime.now().strftime('%Y-%m-%d %H:%M:%S')}] {message}\")\n",
        "    log_to_csv(message)\n",
        "\n",
        "# Scheduling jobs (Only frequent ones since it runs for 2 minutes)\n",
        "schedule.every(10).seconds.do(job)\n",
        "schedule.every(10).seconds.do(job_with_argument, name=\"Peter\")\n",
        "\n",
        "# Set the stop time to 2 minutes from now\n",
        "stop_time = datetime.now() + timedelta(minutes=2)\n",
        "\n",
        "while datetime.now() < stop_time:\n",
        "    schedule.run_pending()\n",
        "    time.sleep(1)\n",
        "\n",
        "print(\"✅ Execution completed. Data saved to:\", csv_filename)\n"
      ],
      "metadata": {
        "id": "VlloOOPbC29d"
      },
      "id": "VlloOOPbC29d",
      "execution_count": null,
      "outputs": []
    }
  ],
  "metadata": {
    "kernelspec": {
      "display_name": "Python 3",
      "language": "python",
      "name": "python3"
    },
    "language_info": {
      "codemirror_mode": {
        "name": "ipython",
        "version": 3
      },
      "file_extension": ".py",
      "mimetype": "text/x-python",
      "name": "python",
      "nbconvert_exporter": "python",
      "pygments_lexer": "ipython3",
      "version": "3.10.10"
    },
    "colab": {
      "provenance": [],
      "name": "First Automation (Jan 30, 2025, 10:17:03 PM)"
    }
  },
  "nbformat": 4,
  "nbformat_minor": 5
}